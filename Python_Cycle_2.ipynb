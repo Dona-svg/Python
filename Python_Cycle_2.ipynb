{
  "nbformat": 4,
  "nbformat_minor": 0,
  "metadata": {
    "colab": {
      "name": "Python Cycle-2(1).ipynb",
      "provenance": [],
      "collapsed_sections": [],
      "include_colab_link": true
    },
    "kernelspec": {
      "display_name": "Python 3",
      "name": "python3"
    }
  },
  "cells": [
    {
      "cell_type": "markdown",
      "metadata": {
        "id": "view-in-github",
        "colab_type": "text"
      },
      "source": [
        "<a href=\"https://colab.research.google.com/github/Dona-svg/Python/blob/Dona/Python_Cycle_2.ipynb\" target=\"_parent\"><img src=\"https://colab.research.google.com/assets/colab-badge.svg\" alt=\"Open In Colab\"/></a>"
      ]
    },
    {
      "cell_type": "code",
      "metadata": {
        "id": "53Ah8t9-ni8B"
      },
      "source": [
        ""
      ],
      "execution_count": null,
      "outputs": []
    },
    {
      "cell_type": "code",
      "metadata": {
        "id": "iqKZCfSVA_cK"
      },
      "source": [
        ""
      ],
      "execution_count": null,
      "outputs": []
    },
    {
      "cell_type": "code",
      "metadata": {
        "colab": {
          "base_uri": "https://localhost:8080/"
        },
        "id": "Skic0nvdgVR5",
        "outputId": "893f2993-12e0-4ae5-f755-0b384f8c9132"
      },
      "source": [
        "n=input(\"enter the home number:\")\r\n",
        "hname=input(\"enter the home name:\")\r\n",
        "po=input(\"enter the post office:\")\r\n",
        "t=input(\"enter the town:\")\r\n",
        "d=input(\"enter the district:\")\r\n",
        "s=input(\"enter the state:\")\r\n",
        "c=input(\"enter the country:\")\r\n",
        "pin=int(input(\"enter the pincode:\"))\r\n",
        "print(\"\\n Address: \\n\",\r\n",
        "       \"\\n home number:\",n,\"\\n home name:\",hname,\"\\n post office:\" ,po,\r\n",
        "      \"\\n town:\",t,\"\\n district:\" ,d,\"\\n state:\" ,s,\"\\n country:\" ,c,\"\\n pincode:\",pin)"
      ],
      "execution_count": null,
      "outputs": [
        {
          "output_type": "stream",
          "text": [
            "enter the home number:10/20\n",
            "enter the home name:illakunnel\n",
            "enter the post office:manakkad\n",
            "enter the town:Thodupuzha\n",
            "enter the district:idukki\n",
            "enter the state:kerala\n",
            "enter the country:india\n",
            "enter the pincode:685585\n",
            "\n",
            " Address: \n",
            " \n",
            " home number: 10/20 \n",
            " home name: illakunnel \n",
            " post office: manakkad \n",
            " town: Thodupuzha \n",
            " district: idukki \n",
            " state: kerala \n",
            " country: india \n",
            " pincode: 685585\n"
          ],
          "name": "stdout"
        }
      ]
    },
    {
      "cell_type": "code",
      "metadata": {
        "colab": {
          "base_uri": "https://localhost:8080/"
        },
        "id": "3vHenZJuo_YU",
        "outputId": "605c01b2-9dfb-4f6f-c7e0-6fe606024dcc"
      },
      "source": [
        "s=int(input(\"enter starting leap year:\"))\r\n",
        "e=int(input(\"enter ending leap year:\"))\r\n",
        "print(\"leap year between\",s,\"and\",e,)\r\n",
        "while(s<=e):\r\n",
        "  if ((s%400==0) or (s%4==0) and (s%100!=0)):\r\n",
        "    print(s)\r\n",
        "  s=s+1"
      ],
      "execution_count": null,
      "outputs": [
        {
          "output_type": "stream",
          "text": [
            "enter starting leap year:2000\n",
            "enter ending leap year:2022\n",
            "leap year between 2000 and 2022\n",
            "2000\n",
            "2004\n",
            "2008\n",
            "2012\n",
            "2016\n",
            "2020\n"
          ],
          "name": "stdout"
        }
      ]
    },
    {
      "cell_type": "code",
      "metadata": {
        "id": "O4qxLq0Vr4t2"
      },
      "source": [
        ""
      ],
      "execution_count": null,
      "outputs": []
    },
    {
      "cell_type": "code",
      "metadata": {
        "colab": {
          "base_uri": "https://localhost:8080/"
        },
        "id": "jDghBRhVvGag",
        "outputId": "767c871a-a4ed-4d7b-fdfd-ad8957789838"
      },
      "source": [
        "x=[]\r\n",
        "n=int(input(\"enter list items:\"))\r\n",
        "for i in range(1,n+1):\r\n",
        "  a=int(input(\"enter the value of %d item : \"%i))\r\n",
        "  x.append(a)\r\n",
        "y=[n for n in x if n>=0]\r\n",
        "print(\"list of integers is :\",x)\r\n",
        "print(\"list of positive intergers:\",y)"
      ],
      "execution_count": null,
      "outputs": [
        {
          "output_type": "stream",
          "text": [
            "enter list items:3\n",
            "enter the value of 1 item : 10\n",
            "enter the value of 2 item : -4\n",
            "enter the value of 3 item : 34\n",
            "list of integers is : [10, -4, 34]\n",
            "list of positive intergers: [10, 34]\n"
          ],
          "name": "stdout"
        }
      ]
    },
    {
      "cell_type": "code",
      "metadata": {
        "colab": {
          "base_uri": "https://localhost:8080/"
        },
        "id": "txHU0Jj4MwM2",
        "outputId": "784a563b-3809-4540-f0f8-4eabbf75c14d"
      },
      "source": [
        "x=[]\r\n",
        "n=int(input(\"enter list items:\"))\r\n",
        "for i in range(1,n+1):\r\n",
        "    a=int(input(\"enter the value of item %d:\"%i))\r\n",
        "    x.append(a)\r\n",
        "b=(num**2 for num in x)\r\n",
        "print(\"initial list of N numbers:\",x)\r\n",
        "y=list(b)\r\n",
        "print(\"square list of N numbers:\",y)"
      ],
      "execution_count": null,
      "outputs": [
        {
          "output_type": "stream",
          "text": [
            "enter list items:3\n",
            "enter the value of item 1:2\n",
            "enter the value of item 2:3\n",
            "enter the value of item 3:6\n",
            "initial list of N numbers: [2, 3, 6]\n",
            "square list of N numbers: [4, 9, 36]\n"
          ],
          "name": "stdout"
        }
      ]
    },
    {
      "cell_type": "code",
      "metadata": {
        "colab": {
          "base_uri": "https://localhost:8080/"
        },
        "id": "2rw5N8CFN7GX",
        "outputId": "ea8af290-ef78-405c-91b9-d3e09736e5d7"
      },
      "source": [
        "w=input(\"enter any word:\")\r\n",
        "v=[l for l in w if l in 'aeiou' ]\r\n",
        "print(\"list of vowels in\",w,\":\",v)"
      ],
      "execution_count": null,
      "outputs": [
        {
          "output_type": "stream",
          "text": [
            "enter any word:aeroplane\n",
            "list of vowels in aeroplane : ['a', 'e', 'o', 'a', 'e']\n"
          ],
          "name": "stdout"
        }
      ]
    },
    {
      "cell_type": "code",
      "metadata": {
        "colab": {
          "base_uri": "https://localhost:8080/"
        },
        "id": "fAz6V6jURR6a",
        "outputId": "b3f6fa55-e420-45f7-b3ed-29149d956214"
      },
      "source": [
        "w=input(\"enter any word:\")\r\n",
        "for l in range(len(w)):\r\n",
        "   print(\"ASCII value is\",w[l], \"is\", ord(w[l]))"
      ],
      "execution_count": null,
      "outputs": [
        {
          "output_type": "stream",
          "text": [
            "enter any word:ant\n",
            "ASCII value is a is 97\n",
            "ASCII value is n is 110\n",
            "ASCII value is t is 116\n"
          ],
          "name": "stdout"
        }
      ]
    },
    {
      "cell_type": "code",
      "metadata": {
        "colab": {
          "base_uri": "https://localhost:8080/"
        },
        "id": "w9at0KXlVW2j",
        "outputId": "caf8c4c2-3124-4f02-8ed3-d11db4865298"
      },
      "source": [
        "def word_count(str):\r\n",
        "    counts=dict()\r\n",
        "    words= str.split()\r\n",
        "    for word in words:\r\n",
        "         if word in counts:\r\n",
        "           counts[word] += 1\r\n",
        "         else:\r\n",
        "           counts[word] = 1\r\n",
        "    return counts\r\n",
        "str=input(\"enter any text:\")\r\n",
        "print(word_count(str))     \r\n"
      ],
      "execution_count": null,
      "outputs": [
        {
          "output_type": "stream",
          "text": [
            "enter any text:many many days\n",
            "{'many': 2, 'days': 1}\n"
          ],
          "name": "stdout"
        }
      ]
    },
    {
      "cell_type": "code",
      "metadata": {
        "colab": {
          "base_uri": "https://localhost:8080/"
        },
        "id": "pfCcUsFMdG5D",
        "outputId": "f9f6155a-f6b7-4668-f8de-8c324dc7aa12"
      },
      "source": [
        "x=[]\r\n",
        "n=int(input(\"enter any integers:\"))\r\n",
        "for i in range(1,n+1):\r\n",
        "   a=int(input())\r\n",
        "   if (a>100):\r\n",
        "      x.append('over')\r\n",
        "   else:\r\n",
        "     x.append(a)\r\n",
        "print(\"modified list:\" ,x)"
      ],
      "execution_count": null,
      "outputs": [
        {
          "output_type": "stream",
          "text": [
            "enter any integers:4\n",
            "1\n",
            "150\n",
            "500\n",
            "100\n",
            "modified list: [1, 'over', 'over', 100]\n"
          ],
          "name": "stdout"
        }
      ]
    },
    {
      "cell_type": "code",
      "metadata": {
        "id": "FySwGHYZTjaN",
        "colab": {
          "base_uri": "https://localhost:8080/"
        },
        "outputId": "d6062c79-30d2-4b24-a10f-20721fedf5d7"
      },
      "source": [
        "l=[]\r\n",
        "x=int(input(\"enter the limit:\"))\r\n",
        "for i in range(1,x+1):\r\n",
        "      x=input(\"enter the first name:\")\r\n",
        "      l.append(x)\r\n",
        "      count=x.count('a')\r\n",
        "      print(\"the number of times  a is present in name: \",count)\r\n",
        "\r\n",
        "    "
      ],
      "execution_count": null,
      "outputs": [
        {
          "output_type": "stream",
          "text": [
            "enter the limit:2\n",
            "enter the first name:dona\n",
            "the number of times  a is present in name:  1\n",
            "enter the first name:alan\n",
            "the number of times  a is present in name:  2\n"
          ],
          "name": "stdout"
        }
      ]
    },
    {
      "cell_type": "code",
      "metadata": {
        "colab": {
          "base_uri": "https://localhost:8080/"
        },
        "id": "DdBPMDB6bbk8",
        "outputId": "b4973be0-a819-42d5-a8f1-3e006e37f2e2"
      },
      "source": [
        "x=[]\r\n",
        "\r\n",
        "i=int(input(\"enter the limit for list1:\"))\r\n",
        "for i in range(1,i+1):\r\n",
        "    i=int(input())\r\n",
        "    x.append(i)\r\n",
        "    print (x)\r\n",
        "y=[]\r\n",
        "\r\n",
        "o=int(input(\"enter the limit for list2:\"))\r\n",
        "for i in range(1,o+1):\r\n",
        "    o=int(input())\r\n",
        "    x.append(o)\r\n",
        "    print (y)\r\n",
        "if(len(x)==len(y)):\r\n",
        "   print(\"list 1 and list 2 are of same length i.e.\",len(x))\r\n",
        "else:\r\n",
        "      print(\"list 1 and list 2 are of different length.\")\r\n",
        "if(sum(x)==sum(y)):\r\n",
        "      print(\"list 1 and list 2 sums to same value i.e.:\",sum(x))\r\n",
        "else:\r\n",
        "      print(\"list 1 and list 2 sums to have different value.\")\r\n",
        "def common(x,y):\r\n",
        "        p=set(x)\r\n",
        "        q=set(y)  \r\n",
        "        if len(p.intersection(q)) > 0:\r\n",
        "            return(p.intersection(q))\r\n",
        "        else:\r\n",
        "             return(\"no common elements\")\r\n",
        "             print(\"value that occur in both lits is/are :\",common)    \r\n",
        " \r\n",
        "    \r\n",
        "    \r\n",
        " \r\n"
      ],
      "execution_count": null,
      "outputs": [
        {
          "output_type": "stream",
          "text": [
            "enter the limit for list1:3\n",
            "2\n",
            "[2]\n",
            "7\n",
            "[2, 7]\n",
            "10\n",
            "[2, 7, 10]\n",
            "enter the limit for list2:4\n",
            "8\n",
            "[]\n",
            "11\n",
            "[]\n",
            "13\n",
            "[]\n",
            "1\n",
            "[]\n",
            "list 1 and list 2 are of different length.\n",
            "list 1 and list 2 sums to have different value.\n"
          ],
          "name": "stdout"
        }
      ]
    },
    {
      "cell_type": "code",
      "metadata": {
        "colab": {
          "base_uri": "https://localhost:8080/"
        },
        "id": "7uk8W7GYQlSH",
        "outputId": "8f683714-6c54-4829-ffb0-3446744ba539"
      },
      "source": [
        "str=input(\"enter any string:\")\r\n",
        "def rep_ch(str1):\r\n",
        "  char=str1[0]\r\n",
        "  str1=str1.replace(char,'$')\r\n",
        "  str1=char+str1[1:]\r\n",
        "  return str1\r\n",
        "print(rep_ch(str))   "
      ],
      "execution_count": null,
      "outputs": [
        {
          "output_type": "stream",
          "text": [
            "enter any string:aeroplane\n",
            "aeropl$ne\n"
          ],
          "name": "stdout"
        }
      ]
    },
    {
      "cell_type": "code",
      "metadata": {
        "colab": {
          "base_uri": "https://localhost:8080/"
        },
        "id": "9RgdByuTW6Bg",
        "outputId": "a770c385-3437-47b7-e084-2290401074cd"
      },
      "source": [
        "\r\n",
        "def change(srt):\r\n",
        "  return str [-1:] + str[1:-1] + str[:1]\r\n",
        "str=input(\"enter any string:\")\r\n",
        "print(\"modified string :\",change(str))\r\n",
        "                                    \r\n"
      ],
      "execution_count": null,
      "outputs": [
        {
          "output_type": "stream",
          "text": [
            "enter any string:python\n",
            "modified string : nythop\n"
          ],
          "name": "stdout"
        }
      ]
    },
    {
      "cell_type": "code",
      "metadata": {
        "colab": {
          "base_uri": "https://localhost:8080/"
        },
        "id": "5VXlhGQ5BCdd",
        "outputId": "e455abc9-4555-4aff-a0ee-be26cc91bfc9"
      },
      "source": [
        "r=int(input(\"enter the radius of the circle :\"))\r\n",
        "print(\"area of the circle is :\",3.14*r*r)"
      ],
      "execution_count": null,
      "outputs": [
        {
          "output_type": "stream",
          "text": [
            "enter the radius of the circle :5\n",
            "area of the circle is : 78.5\n"
          ],
          "name": "stdout"
        }
      ]
    },
    {
      "cell_type": "code",
      "metadata": {
        "colab": {
          "base_uri": "https://localhost:8080/"
        },
        "id": "FsoDXWflCABZ",
        "outputId": "faf1a260-6abb-4ee0-cc0b-e5a351eb43c6"
      },
      "source": [
        "a=float(input(\"enter the first value:\"))\r\n",
        "b=float(input(\"enter the second value:\"))\r\n",
        "c=float(input(\"enter the third value:\"))\r\n",
        "if(a>b and a>c):\r\n",
        "  print(a, \"is bigger than both\" ,b, \"and\" ,c)\r\n",
        "elif(b>a and b>c):\r\n",
        "     print(b, \"is bigger than both\" ,a, \"and\" ,c)\r\n",
        "elif(c>a and c>b):\r\n",
        "  print(c,\"is bigger than both\" ,a, \"and\" ,b)\r\n",
        "else:\r\n",
        "    print(\"either any two values or all the three values are equal\")\r\n"
      ],
      "execution_count": null,
      "outputs": [
        {
          "output_type": "stream",
          "text": [
            "enter the first value:3\n",
            "enter the second value:1\n",
            "enter the third value:0\n",
            "3.0 is bigger than both 1.0 and 0.0\n"
          ],
          "name": "stdout"
        }
      ]
    },
    {
      "cell_type": "code",
      "metadata": {
        "id": "GOw4Cvx3NMoM"
      },
      "source": [
        ""
      ],
      "execution_count": null,
      "outputs": []
    },
    {
      "cell_type": "code",
      "metadata": {
        "colab": {
          "base_uri": "https://localhost:8080/"
        },
        "id": "A2IOkOZrGo1w",
        "outputId": "4548e26d-7abb-4f1e-f50b-276627c116c4"
      },
      "source": [
        "f=input(\"enter any filename:\")\r\n",
        "x=f.split(\".\")\r\n",
        "print(\"extention of filename\" ,x[-1])"
      ],
      "execution_count": null,
      "outputs": [
        {
          "output_type": "stream",
          "text": [
            "enter any filename:star.py\n",
            "extention of filename py\n"
          ],
          "name": "stdout"
        }
      ]
    },
    {
      "cell_type": "code",
      "metadata": {
        "colab": {
          "base_uri": "https://localhost:8080/"
        },
        "id": "s0ihnzRDNOCf",
        "outputId": "633bd1c4-8d70-444e-e196-159c72ddc021"
      },
      "source": [
        "c=[]\r\n",
        "a=int(input(\"enter the limit for list :\"))\r\n",
        "for i in range(1,a+1):\r\n",
        "   b=input()\r\n",
        "   c.append(b)\r\n",
        "print(c)\r\n",
        "print(c[0],c[-1])"
      ],
      "execution_count": null,
      "outputs": [
        {
          "output_type": "stream",
          "text": [
            "enter the limit for list :3\n",
            "black\n",
            "blue\n",
            "green\n",
            "['black', 'blue', 'green']\n",
            "black green\n"
          ],
          "name": "stdout"
        }
      ]
    },
    {
      "cell_type": "code",
      "metadata": {
        "colab": {
          "base_uri": "https://localhost:8080/"
        },
        "id": "cAJcyTe6P4yn",
        "outputId": "258ffc3a-0d56-413f-c3d7-9ebc1d97461f"
      },
      "source": [
        "a=int(input(\"enter any integer:\"))\r\n",
        "n1=int(\"%s\" %a)\r\n",
        "n2=int(\"%s%s\" %(a,a))\r\n",
        "n3=int(\"%s%s%s\" %(a,a,a))\r\n",
        "print(\"value of n+nn+nnn is:\" ,n1+n2+n3)\r\n",
        "\r\n"
      ],
      "execution_count": null,
      "outputs": [
        {
          "output_type": "stream",
          "text": [
            "enter any integer:3\n",
            "value of n+nn+nnn is: 369\n"
          ],
          "name": "stdout"
        }
      ]
    },
    {
      "cell_type": "code",
      "metadata": {
        "colab": {
          "base_uri": "https://localhost:8080/"
        },
        "id": "C3xO3zzqSZfX",
        "outputId": "cc65ace9-8a5d-445d-ee29-349af09dc7e7"
      },
      "source": [
        "c1=[]\r\n",
        "x=int(input(\"enter the limit for list one:\"))\r\n",
        "for i in range(1,x+1):\r\n",
        "  a=input()\r\n",
        "  c1.append(a)\r\n",
        "  p=set(c1)\r\n",
        "c2=[]\r\n",
        "y=int(input(\"enter the limit for list two:\"))\r\n",
        "for i in range(1,y+1):\r\n",
        "  b=input()\r\n",
        "  c2.append(b)\r\n",
        "  q=set(c2)\r\n",
        "print(q)\r\n",
        "print(p.difference (q))  \r\n",
        "\r\n"
      ],
      "execution_count": null,
      "outputs": [
        {
          "output_type": "stream",
          "text": [
            "enter the limit for list one:3\n",
            "red\n",
            "orange\n",
            "blue\n",
            "enter the limit for list two:3\n",
            "red\n",
            "yellow\n",
            "black\n",
            "{'red', 'yellow', 'black'}\n",
            "{'blue', 'orange'}\n"
          ],
          "name": "stdout"
        }
      ]
    },
    {
      "cell_type": "code",
      "metadata": {
        "id": "Q7CbcuZxWlSx",
        "colab": {
          "base_uri": "https://localhost:8080/"
        },
        "outputId": "01e47c8b-d4b9-460f-d9d9-44ff9867ec1f"
      },
      "source": [
        "x=input(\"enter the first string:\")\r\n",
        "y=input(\"enter the second string:\")\r\n",
        "def swapch(x,y):\r\n",
        "  a = y[:1] + x[1:]\r\n",
        "  b = x[:1] + y[1:]\r\n",
        "  return a + ' ' + b\r\n",
        "print(swapch(x,y))  \r\n"
      ],
      "execution_count": null,
      "outputs": [
        {
          "output_type": "stream",
          "text": [
            "enter the first string:drop\n",
            "enter the second string:cope\n",
            "crop dope\n"
          ],
          "name": "stdout"
        }
      ]
    },
    {
      "cell_type": "code",
      "metadata": {
        "colab": {
          "base_uri": "https://localhost:8080/"
        },
        "id": "6mXSmsdy3YZS",
        "outputId": "015619a5-1d71-48bf-f60c-883a613485aa"
      },
      "source": [
        "k1=input(\"enter first key:\")\r\n",
        "k2=input(\"enter second key:\")\r\n",
        "k3=input(\"enter third key:\")\r\n",
        "k4=input(\"enter fourth key:\")\r\n",
        "k5=input(\"enter fifth key:\")\r\n",
        "v1=input(\"enter first value:\")\r\n",
        "v2=input(\"enter second value:\")\r\n",
        "v3=input(\"enter third value:\")\r\n",
        "v4=input(\"enter fourth value:\")\r\n",
        "v5=input(\"enter fifth value:\")\r\n",
        "d={}\r\n",
        "d[k1]=v1\r\n",
        "d[k2]=v2\r\n",
        "d[k3]=v3\r\n",
        "d[k4]=v4\r\n",
        "d[k5]=v5\r\n",
        "l=list(d.items())\r\n",
        "l.sort()\r\n",
        "print(\"ascending order is:\",l)\r\n",
        "l=list(d.items())\r\n",
        "l.sort(reverse = True)\r\n",
        "print(\"descending order is:\",l)\r\n",
        "\r\n"
      ],
      "execution_count": null,
      "outputs": [
        {
          "output_type": "stream",
          "text": [
            "enter first key:4\n",
            "enter second key:6\n",
            "enter third key:5\n",
            "enter fourth key:9\n",
            "enter fifth key:1\n",
            "enter first value:apple\n",
            "enter second value:orange\n",
            "enter third value:kiwi\n",
            "enter fourth value:grapes\n",
            "enter fifth value:water melon\n",
            "ascending order is: [('1', 'water melon'), ('4', 'apple'), ('5', 'kiwi'), ('6', 'orange'), ('9', 'grapes')]\n",
            "descending order is: [('9', 'grapes'), ('6', 'orange'), ('5', 'kiwi'), ('4', 'apple'), ('1', 'water melon')]\n"
          ],
          "name": "stdout"
        }
      ]
    },
    {
      "cell_type": "code",
      "metadata": {
        "colab": {
          "base_uri": "https://localhost:8080/"
        },
        "id": "3T8dAjGWCw8f",
        "outputId": "079e7fd7-6183-467f-cc6d-3011bc1b6205"
      },
      "source": [
        "k1=input(\"enter first key : \")\r\n",
        "k2=input(\"enter second key : \")\r\n",
        "v1=input(\"enter first value : \")\r\n",
        "v2=input(\"enter second value : \")\r\n",
        "dict1={}\r\n",
        "dict2={}\r\n",
        "dict1[k1]=v1\r\n",
        "dict2[k2]=v2\r\n",
        "def merge_dictionaries(x,y):\r\n",
        "  z = {**x,**y}\r\n",
        "  print(\"merged dictionary is : \")\r\n",
        "  return z\r\n",
        "print(merge_dictionaries(dict1,dict2))\r\n",
        "\r\n"
      ],
      "execution_count": null,
      "outputs": [
        {
          "output_type": "stream",
          "text": [
            "enter first key : cat\n",
            "enter second key : dog\n",
            "enter first value : cute\n",
            "enter second value : fluffy\n",
            "merged dictionary is : \n",
            "{'cat': 'cute', 'dog': 'fluffy'}\n"
          ],
          "name": "stdout"
        }
      ]
    },
    {
      "cell_type": "code",
      "metadata": {
        "id": "wm9WGRs5Ggee",
        "colab": {
          "base_uri": "https://localhost:8080/"
        },
        "outputId": "98daca7b-9e41-4fe6-f9fe-cd57bd2347df"
      },
      "source": [
        "n1=float(input(\"enter the first value : \"))\r\n",
        "n2=float(input(\"enter the second value : \"))\r\n",
        "x=n1\r\n",
        "y=n2\r\n",
        "while (n2 != 0):\r\n",
        "  temp=n2\r\n",
        "  n2=n1%n2\r\n",
        "  n1=temp\r\n",
        "gcd=n1   \r\n",
        "print(\"GCD of\",x,\"and\",y,\"is\",gcd)"
      ],
      "execution_count": null,
      "outputs": [
        {
          "output_type": "stream",
          "text": [
            "enter the first value : 12\n",
            "enter the second value : 36\n",
            "GCD of 12.0 and 36.0 is 12.0\n"
          ],
          "name": "stdout"
        }
      ]
    },
    {
      "cell_type": "code",
      "metadata": {
        "colab": {
          "base_uri": "https://localhost:8080/"
        },
        "id": "pLmoV3J1Hd63",
        "outputId": "a9b76a25-6c7e-44f0-c30f-d4fbb46537e1"
      },
      "source": [
        "x=[]\r\n",
        "a=int(input(\"enter list items:\"))\r\n",
        "for i in range(1,a+1):\r\n",
        "   b=int(input(\"enter the value of  %d item:  \"%i))\r\n",
        "   x.append(b)\r\n",
        "for i in x:\r\n",
        "   if (i%2==0):\r\n",
        "      x.remove(i)\r\n",
        "      print(\"modified list after removing even numbers:\")\r\n",
        "      print(x)\r\n",
        "   "
      ],
      "execution_count": 27,
      "outputs": [
        {
          "output_type": "stream",
          "text": [
            "enter list items:3\n",
            "enter the value of  1 item:  4\n",
            "enter the value of  2 item:  3\n",
            "enter the value of  3 item:  7\n",
            "modified list after removing even numbers:\n",
            "[3, 7]\n"
          ],
          "name": "stdout"
        }
      ]
    }
  ]
}