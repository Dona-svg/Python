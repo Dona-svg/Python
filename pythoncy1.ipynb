{
  "nbformat": 4,
  "nbformat_minor": 0,
  "metadata": {
    "colab": {
      "name": "pythoncy1",
      "provenance": [],
      "authorship_tag": "ABX9TyMZa+P9Q2fB5YQ7zYI34BvF",
      "include_colab_link": true
    },
    "kernelspec": {
      "name": "python3",
      "display_name": "Python 3"
    }
  },
  "cells": [
    {
      "cell_type": "markdown",
      "metadata": {
        "id": "view-in-github",
        "colab_type": "text"
      },
      "source": [
        "<a href=\"https://colab.research.google.com/github/Dona-svg/Python/blob/Dona/pythoncy1.ipynb\" target=\"_parent\"><img src=\"https://colab.research.google.com/assets/colab-badge.svg\" alt=\"Open In Colab\"/></a>"
      ]
    },
    {
      "cell_type": "code",
      "metadata": {
        "colab": {
          "base_uri": "https://localhost:8080/"
        },
        "id": "0au51NxkgqRQ",
        "outputId": "0089ef22-0c1d-4170-e296-98250512b471"
      },
      "source": [
        "print(\"Hello,World!\")"
      ],
      "execution_count": null,
      "outputs": [
        {
          "output_type": "stream",
          "text": [
            "Hello,World!\n"
          ],
          "name": "stdout"
        }
      ]
    },
    {
      "cell_type": "code",
      "metadata": {
        "id": "WK1GB_iD-8vA"
      },
      "source": [
        ""
      ],
      "execution_count": null,
      "outputs": []
    },
    {
      "cell_type": "code",
      "metadata": {
        "id": "AkptZwI5iWcv",
        "colab": {
          "base_uri": "https://localhost:8080/"
        },
        "outputId": "5fd997c4-8380-4af3-99c9-adf471e758be"
      },
      "source": [
        "a=int(input(\"enter first number:\"))\r\n",
        "b=int(input(\"enter second number:\"))\r\n",
        "sum=a+b\r\n",
        "print(\"sum of two integers:\",sum)\r\n"
      ],
      "execution_count": null,
      "outputs": [
        {
          "output_type": "stream",
          "text": [
            "enter first number:5\n",
            "enter second number:10\n",
            "sum of two integers: 15\n"
          ],
          "name": "stdout"
        }
      ]
    },
    {
      "cell_type": "code",
      "metadata": {
        "id": "napAf3wnCyo9",
        "colab": {
          "base_uri": "https://localhost:8080/"
        },
        "outputId": "6b764586-7629-435d-dd23-28114caef302"
      },
      "source": [
        "num=int(input(\"enter the integer:\"))\r\n",
        "print(\"you entered\",num)"
      ],
      "execution_count": null,
      "outputs": [
        {
          "output_type": "stream",
          "text": [
            "enter the integer:5\n",
            "you entered 5\n"
          ],
          "name": "stdout"
        }
      ]
    },
    {
      "cell_type": "code",
      "metadata": {
        "id": "2O7ltnI9C8YO",
        "colab": {
          "base_uri": "https://localhost:8080/"
        },
        "outputId": "e8fc1842-9e61-4d69-be63-d1adf92ad13b"
      },
      "source": [
        "a=float(input(\"enter first number:\"))\r\n",
        "b=float(input(\"enter second number:\"))\r\n",
        "mul=a*b\r\n",
        "print(\"multiplication of two numbers:\",mul)\r\n"
      ],
      "execution_count": null,
      "outputs": [
        {
          "output_type": "stream",
          "text": [
            "enter first number:5\n",
            "enter second number:10\n",
            "multiplication of two numbers: 50.0\n"
          ],
          "name": "stdout"
        }
      ]
    },
    {
      "cell_type": "code",
      "metadata": {
        "colab": {
          "base_uri": "https://localhost:8080/"
        },
        "id": "RfjbxitTI9vK",
        "outputId": "be158975-4585-4c20-dadc-83153794927a"
      },
      "source": [
        "a=int(input(\"enter first number:\"))\r\n",
        "b=int(input(\"enter second number\"))\r\n",
        "quotient=a//b\r\n",
        "remainder=a%b\r\n",
        "print(\"Ouotient is:\",quotient)\r\n",
        "print(\"Remainder is:\",remainder)"
      ],
      "execution_count": null,
      "outputs": [
        {
          "output_type": "stream",
          "text": [
            "enter first number:5\n",
            "enter second number3\n",
            "Ouotient is: 1\n",
            "Remainder is: 2\n"
          ],
          "name": "stdout"
        }
      ]
    },
    {
      "cell_type": "code",
      "metadata": {
        "colab": {
          "base_uri": "https://localhost:8080/"
        },
        "id": "oNG2KTrkLKio",
        "outputId": "b95e0402-01e9-41f5-907d-dd9bc121defc"
      },
      "source": [
        "num1=input(\"enter first number:\")\r\n",
        "num2=input(\"enter second number:\")\r\n",
        "print(\"value of num1 before swaping:\",num1)\r\n",
        "print(\"value of num2 before swaping:\",num2)\r\n",
        "temp=num1\r\n",
        "num1=num2\r\n",
        "num2=temp\r\n",
        "print(\"value of num1 after swaping:\",num1)\r\n",
        "print(\"value of num2 after swaping:\",num2)\r\n",
        "\r\n"
      ],
      "execution_count": null,
      "outputs": [
        {
          "output_type": "stream",
          "text": [
            "enter first number:40\n",
            "enter second number:80\n",
            "value of num1 before swaping: 40\n",
            "value of num2 before swaping: 80\n",
            "value of num1 after swaping: 80\n",
            "value of num2 after swaping: 40\n"
          ],
          "name": "stdout"
        }
      ]
    },
    {
      "cell_type": "code",
      "metadata": {
        "colab": {
          "base_uri": "https://localhost:8080/"
        },
        "id": "6ApeDhIOL4pb",
        "outputId": "738d72af-e1c1-4ee1-e6d4-6cb21921e67c"
      },
      "source": [
        "num=int(input(\"enter a number:\"))\r\n",
        "if(num%2)==0:\r\n",
        "  print(\"{0} is even number\" .format(num))\r\n",
        "else:\r\n",
        "    print(\"{0} is odd number\" .format(num))"
      ],
      "execution_count": null,
      "outputs": [
        {
          "output_type": "stream",
          "text": [
            "enter a number:5\n",
            "5 is odd number\n"
          ],
          "name": "stdout"
        }
      ]
    },
    {
      "cell_type": "code",
      "metadata": {
        "colab": {
          "base_uri": "https://localhost:8080/"
        },
        "id": "S-6xb77tMjkS",
        "outputId": "66d51cb0-40cb-48a5-ce98-aa35a82b2c55"
      },
      "source": [
        "ch=input(\"enter a character:\")\r\n",
        "if(ch=='A' or ch=='a' or ch=='E' or ch=='e' or ch=='I'\r\n",
        "or ch=='i'  or ch=='O' or ch=='o' or ch=='U' or ch=='u'):\r\n",
        "  print(ch,\"is a vowel\")\r\n",
        "else:\r\n",
        "    print(ch,\" is a consonant\")"
      ],
      "execution_count": null,
      "outputs": [
        {
          "output_type": "stream",
          "text": [
            "enter a character:c\n",
            "c  is a consonant\n"
          ],
          "name": "stdout"
        }
      ]
    },
    {
      "cell_type": "code",
      "metadata": {
        "colab": {
          "base_uri": "https://localhost:8080/"
        },
        "id": "L4eV1IMJy1dM",
        "outputId": "f87c19d1-c348-4d59-b96f-0a96cd9ac96b"
      },
      "source": [
        "num1=float(input(\"enter first number:\"))\r\n",
        "num2=float(input(\"enter second number:\"))\r\n",
        "num3=float(input(\"enter third number:\"))\r\n",
        "\r\n",
        "if(num1>num2) and (num1>num3):\r\n",
        "      largest=num1\r\n",
        "elif(num2>num1) and (num2>num3):\r\n",
        "      largest=num2\r\n",
        "else:\r\n",
        "      largest=num3\r\n",
        "print(\"The largest number is:\",largest) \r\n"
      ],
      "execution_count": null,
      "outputs": [
        {
          "output_type": "stream",
          "text": [
            "enter first number:5\n",
            "enter second number:10\n",
            "enter third number:100\n",
            "The largest number is: 100.0\n"
          ],
          "name": "stdout"
        }
      ]
    },
    {
      "cell_type": "code",
      "metadata": {
        "colab": {
          "base_uri": "https://localhost:8080/"
        },
        "id": "jHd7zQXs1EPV",
        "outputId": "b72d75c0-e333-4930-cb68-8f26818624fb"
      },
      "source": [
        "year=int(input(\"enter a year:\"))\r\n",
        "if (year%4)==0:\r\n",
        "  if(year%100)==0:\r\n",
        "    if(year%400)==0:\r\n",
        "       print(\"{0} is a leap year\".format(year))\r\n",
        "else:\r\n",
        "  print(\"{0} is not a leap year\".format(year))\r\n",
        "          \r\n",
        "\r\n"
      ],
      "execution_count": null,
      "outputs": [
        {
          "output_type": "stream",
          "text": [
            "enter a year:1999\n",
            "1999 is not a leap year\n"
          ],
          "name": "stdout"
        }
      ]
    },
    {
      "cell_type": "code",
      "metadata": {
        "id": "lZX0Nd0M8_t5"
      },
      "source": [
        ""
      ],
      "execution_count": null,
      "outputs": []
    },
    {
      "cell_type": "code",
      "metadata": {
        "colab": {
          "base_uri": "https://localhost:8080/"
        },
        "id": "LbdyJiSN_Y9n",
        "outputId": "b338965b-50e4-4391-ad44-2f36a2489258"
      },
      "source": [
        "num=float(input(\"enter a number:\"))\r\n",
        "if num>0:\r\n",
        " print(\"{0} is a positive number\".format(num)) \r\n",
        "elif num==0:   \r\n",
        "     print(\"{0} is zero\".format(num))\r\n",
        "else:\r\n",
        "      print(\"{0} is a negative number\".format(num))"
      ],
      "execution_count": null,
      "outputs": [
        {
          "output_type": "stream",
          "text": [
            "enter a number:0\n",
            "0.0 is zero\n"
          ],
          "name": "stdout"
        }
      ]
    },
    {
      "cell_type": "code",
      "metadata": {
        "colab": {
          "base_uri": "https://localhost:8080/"
        },
        "id": "SjVFXGPnOAOw",
        "outputId": "3ffcd8c6-20a8-4458-a185-9a59610e4e28"
      },
      "source": [
        "a=int(input(\"enter first number:\"))\r\n",
        "b=int(input(\"enter second number:\"))\r\n",
        "sum=a+b\r\n",
        "print(\"sum of two numbers\",sum)"
      ],
      "execution_count": null,
      "outputs": [
        {
          "output_type": "stream",
          "text": [
            "enter first number:5\n",
            "enter second number:5\n",
            "sum of two numbers 10\n"
          ],
          "name": "stdout"
        }
      ]
    },
    {
      "cell_type": "code",
      "metadata": {
        "id": "-w1LjJfoQ41f",
        "colab": {
          "base_uri": "https://localhost:8080/"
        },
        "outputId": "579d9a4d-e889-4fb0-eddd-ffbcb1b99ad1"
      },
      "source": [
        "num=int(input(\"enter a number:\"))\r\n",
        "factorial=1\r\n",
        "if num<0:\r\n",
        "  print(\"factorial does not exist for negative number \")\r\n",
        "elif num==0:\r\n",
        "    print(\"the factorial for zero is 1\")\r\n",
        "else:\r\n",
        "      for i in range (1, num+1):\r\n",
        "         factorial=factorial*i\r\n",
        "      print(\"the factorial of\",num, \"is\", factorial)"
      ],
      "execution_count": null,
      "outputs": [
        {
          "output_type": "stream",
          "text": [
            "enter a number:5\n",
            "the factorial of 5 is 120\n"
          ],
          "name": "stdout"
        }
      ]
    },
    {
      "cell_type": "code",
      "metadata": {
        "id": "n3zWGoeMOAEI",
        "colab": {
          "base_uri": "https://localhost:8080/"
        },
        "outputId": "bf553b4b-4d3f-46d1-99c4-7adb5730e65e"
      },
      "source": [
        "a=1\r\n",
        "print(\"the value of\",a,\"is of the type\",type(a))\r\n",
        "b=\"hello\"\r\n",
        "print(\"the value of\",b,\"is of the type\",type(b))\r\n",
        "c=3.14\r\n",
        "print(\"the value of\",c,\"is of the type\",type(c))\r\n",
        "d=2j\r\n",
        "print(\"the value of\",d,\"is of the type\",type(d))\r\n",
        "e=(\"ads\",\"web\",\"python\")\r\n",
        "print(\"the value of\",e,\"is of the type\",type(e))\r\n",
        "f=[\"ads\",\"web\",\"python\"]\r\n",
        "print(\"the value of\",f,\"is of the type\",type(f))\r\n",
        "g={\"ads\",\"web\",\"python\"}\r\n",
        "print(\"the value of\",g,\"is of the type\",type(g))\r\n",
        "h=(range(5))\r\n",
        "print(\"the value of\",h,\"is of the type\",type(h))\r\n",
        "i=True\r\n",
        "print(\"the value of data type\",i,type(i))"
      ],
      "execution_count": null,
      "outputs": [
        {
          "output_type": "stream",
          "text": [
            "the value of 1 is of the type <class 'int'>\n",
            "the value of hello is of the type <class 'str'>\n",
            "the value of 3.14 is of the type <class 'float'>\n",
            "the value of 2j is of the type <class 'complex'>\n",
            "the value of ('ads', 'web', 'python') is of the type <class 'tuple'>\n",
            "the value of ['ads', 'web', 'python'] is of the type <class 'list'>\n",
            "the value of {'python', 'ads', 'web'} is of the type <class 'set'>\n",
            "the value of range(0, 5) is of the type <class 'range'>\n",
            "the value of data type True <class 'bool'>\n"
          ],
          "name": "stdout"
        }
      ]
    },
    {
      "cell_type": "code",
      "metadata": {
        "id": "ZZg04MfPFslK",
        "colab": {
          "base_uri": "https://localhost:8080/"
        },
        "outputId": "8fe2c468-d526-4abb-eb06-af096bf85998"
      },
      "source": [
        "num=int(input(\"multiplication table of ?\"))\r\n",
        "for i in range(1 ,11):\r\n",
        "  print(num,'*', i ,'=',num*i)"
      ],
      "execution_count": null,
      "outputs": [
        {
          "output_type": "stream",
          "text": [
            "multiplication table of ?9\n",
            "9 * 1 = 9\n",
            "9 * 2 = 18\n",
            "9 * 3 = 27\n",
            "9 * 4 = 36\n",
            "9 * 5 = 45\n",
            "9 * 6 = 54\n",
            "9 * 7 = 63\n",
            "9 * 8 = 72\n",
            "9 * 9 = 81\n",
            "9 * 10 = 90\n"
          ],
          "name": "stdout"
        }
      ]
    },
    {
      "cell_type": "code",
      "metadata": {
        "id": "wVX5SoTPAXYn",
        "colab": {
          "base_uri": "https://localhost:8080/"
        },
        "outputId": "8cda61b1-0c3d-48a2-874f-3e79fcbecf32"
      },
      "source": [
        "nterms = int(input(\"How many terms you want?\"))\r\n",
        "# first two terms\r\n",
        "n1 =0\r\n",
        "n2 =1\r\n",
        "count = 2\r\n",
        "# check if the number of terms is valid\r\n",
        "if nterms <=0:\r\n",
        "  print(\"please enter a positive integer\")\r\n",
        "elif nterms ==1:\r\n",
        "  print(\"Fibonacci sequence:\")\r\n",
        "  print(n1)\r\n",
        "else:\r\n",
        "   print(\"Fibonacci sequence:\")\r\n",
        "   print(n1,\",\",n2,end=',')\r\n",
        "   while count < nterms:\r\n",
        "     nth =n1 + n2\r\n",
        "     print(nth,end=',')\r\n",
        "     # update values\r\n",
        "     n1 = n2\r\n",
        "     n2 =nth\r\n",
        "     count += 1\r\n"
      ],
      "execution_count": null,
      "outputs": [
        {
          "output_type": "stream",
          "text": [
            "How many terms you want?10\n",
            "Fibonacci sequence:\n",
            "0 , 1,1,2,3,5,8,13,21,34,"
          ],
          "name": "stdout"
        }
      ]
    },
    {
      "cell_type": "code",
      "metadata": {
        "id": "FxhUDyVr4L62",
        "colab": {
          "base_uri": "https://localhost:8080/"
        },
        "outputId": "1b1ed873-60fd-4900-dd05-6bc200cf94a7"
      },
      "source": [
        "a=int(input(\"enter the first number:\"))\r\n",
        "b=int(input(\"enter the second number:\"))\r\n",
        "if(a>b):\r\n",
        "  min1=a\r\n",
        "else:\r\n",
        "    min1=b\r\n",
        "while(1):\r\n",
        "    if(min1%a==0 and min1%b==0):\r\n",
        "      print(\"LCM is:\" ,min1)\r\n",
        "      break\r\n",
        "    min1=min1+1"
      ],
      "execution_count": null,
      "outputs": [
        {
          "output_type": "stream",
          "text": [
            "enter the first number:5\n",
            "enter the second number:3\n",
            "LCM is: 15\n"
          ],
          "name": "stdout"
        }
      ]
    },
    {
      "cell_type": "code",
      "metadata": {
        "colab": {
          "base_uri": "https://localhost:8080/"
        },
        "id": "q-bsmW25ITuW",
        "outputId": "11a9e2d3-e36f-4c9f-eea1-883156a727e2"
      },
      "source": [
        "n=int(input(\"enter number:\"))\r\n",
        "count=0\r\n",
        "while(n>0):\r\n",
        "  count=count+1\r\n",
        "  n=n//10\r\n",
        "print(\"the number of digits in the number are:\", count)  \r\n"
      ],
      "execution_count": null,
      "outputs": [
        {
          "output_type": "stream",
          "text": [
            "enter number:4785\n",
            "the number of digits in the number are: 4\n"
          ],
          "name": "stdout"
        }
      ]
    },
    {
      "cell_type": "code",
      "metadata": {
        "colab": {
          "base_uri": "https://localhost:8080/"
        },
        "id": "M7NiTI2ZJDF1",
        "outputId": "571f169a-8974-4f03-aa49-dbbadf65f22a"
      },
      "source": [
        "n=4565\r\n",
        "rev=0\r\n",
        "\r\n",
        "while(n>0):\r\n",
        "  a=n%10\r\n",
        "  rev = rev * 10 + a\r\n",
        "  n=n//10\r\n",
        "print(rev)"
      ],
      "execution_count": null,
      "outputs": [
        {
          "output_type": "stream",
          "text": [
            "5654\n"
          ],
          "name": "stdout"
        }
      ]
    },
    {
      "cell_type": "code",
      "metadata": {
        "colab": {
          "base_uri": "https://localhost:8080/"
        },
        "id": "gcuY5-G4JniX",
        "outputId": "cb689e4f-1764-4ade-ec42-3c3363079222"
      },
      "source": [
        "def power(base,exp):\r\n",
        "  if(exp==1):\r\n",
        "      return(base)\r\n",
        "  if(exp!=1):\r\n",
        "     return(base*power(base,exp-1))\r\n",
        "base=int(input(\"Enter base:\"))\r\n",
        "exp=int(input(\"enter exponential value:\"))\r\n",
        "print(\"Result:\",power(base,exp))"
      ],
      "execution_count": null,
      "outputs": [
        {
          "output_type": "stream",
          "text": [
            "Enter base:5\n",
            "enter exponential value:4\n",
            "Result: 625\n"
          ],
          "name": "stdout"
        }
      ]
    },
    {
      "cell_type": "code",
      "metadata": {
        "colab": {
          "base_uri": "https://localhost:8080/"
        },
        "id": "qa9lsB5JKpZP",
        "outputId": "660924da-c13b-4fab-b293-94e125f903c3"
      },
      "source": [
        "n=int(input(\"enter number:\"))\r\n",
        "temp=n\r\n",
        "rev=0\r\n",
        "while(n>0):\r\n",
        "    dig=n%10\r\n",
        "    rev=rev*10+dig\r\n",
        "    n=n//10\r\n",
        "if(temp==rev):\r\n",
        "    print(\"the number is a palindrome!\")  \r\n",
        "else: \r\n",
        "     print(\"the number isn't a palindrome!\") "
      ],
      "execution_count": null,
      "outputs": [
        {
          "output_type": "stream",
          "text": [
            "enter number:121\n",
            "the number is a palindrome!\n"
          ],
          "name": "stdout"
        }
      ]
    },
    {
      "cell_type": "code",
      "metadata": {
        "id": "5L2d6If_K_EN"
      },
      "source": [
        ""
      ],
      "execution_count": null,
      "outputs": []
    }
  ]
}