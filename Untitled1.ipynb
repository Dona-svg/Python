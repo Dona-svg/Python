{
  "nbformat": 4,
  "nbformat_minor": 0,
  "metadata": {
    "colab": {
      "name": "Untitled1.ipynb",
      "provenance": [],
      "collapsed_sections": [],
      "authorship_tag": "ABX9TyPQvgnOEIymQ8OjOOta+kc4",
      "include_colab_link": true
    },
    "kernelspec": {
      "name": "python3",
      "display_name": "Python 3"
    },
    "language_info": {
      "name": "python"
    }
  },
  "cells": [
    {
      "cell_type": "markdown",
      "metadata": {
        "id": "view-in-github",
        "colab_type": "text"
      },
      "source": [
        "<a href=\"https://colab.research.google.com/github/Dona-svg/Python/blob/Dona/Untitled1.ipynb\" target=\"_parent\"><img src=\"https://colab.research.google.com/assets/colab-badge.svg\" alt=\"Open In Colab\"/></a>"
      ]
    },
    {
      "cell_type": "code",
      "metadata": {
        "colab": {
          "base_uri": "https://localhost:8080/"
        },
        "id": "Del007_JHOXq",
        "outputId": "aec67375-f64d-4ca7-ba5c-dfb0647310a9"
      },
      "source": [
        "n=int(input(\"enter any number : \"))\n",
        "fact=1\n",
        "i=1\n",
        "while i<=n:\n",
        "\tfact=fact*i\n",
        "\ti=i+1\n",
        "print(\"factorial of\",n,\"is\",fact)\n"
      ],
      "execution_count": 1,
      "outputs": [
        {
          "output_type": "stream",
          "text": [
            "enter any number : 5\n",
            "factorial of 5 is 120\n"
          ],
          "name": "stdout"
        }
      ]
    },
    {
      "cell_type": "code",
      "metadata": {
        "colab": {
          "base_uri": "https://localhost:8080/"
        },
        "id": "5X93NBx7HehF",
        "outputId": "87655e34-a851-4bb4-a30f-1130cd7c3619"
      },
      "source": [
        "n = int(input(\"Enter the value of 'n': \"))\n",
        "a = 0\n",
        "b = 1\n",
        "sum = 0\n",
        "count = 1\n",
        "print(\"Fibonacci Series: \", end = \" \")\n",
        "while(count <= n):\n",
        "  print(sum, end = \" \")\n",
        "  count += 1\n",
        "  a = b\n",
        "  b = sum\n",
        "  sum = a + b"
      ],
      "execution_count": 2,
      "outputs": [
        {
          "output_type": "stream",
          "text": [
            "Enter the value of 'n': 4\n",
            "Fibonacci Series:  0 1 1 2 "
          ],
          "name": "stdout"
        }
      ]
    },
    {
      "cell_type": "code",
      "metadata": {
        "id": "Qiitw5HSHl59"
      },
      "source": [
        "n=[]\n",
        "x=int(input(\"enter the limit of list elements : \"))\n",
        "for i in range(1,x+1):\n",
        "    a=int(input())\n",
        "    n.append(a)\n",
        "t=sum(n)\n",
        "print(\"sum of all element in this list is :\",t)"
      ],
      "execution_count": null,
      "outputs": []
    },
    {
      "cell_type": "code",
      "metadata": {
        "colab": {
          "base_uri": "https://localhost:8080/"
        },
        "id": "bpoBBoZ6H9kl",
        "outputId": "41471074-cc49-4618-d1b5-b5e6a76e947b"
      },
      "source": [
        "for i in range(1000,10000):\n",
        "  for j in range(32,100):\n",
        "    if i==j*j:\n",
        "      a=str(i)\n",
        "      if (int(a[0])%2==0 and int(a[1])%2==0 and int(a[2])%2==0 and int(a[3])%2==0):\n",
        "        print(i)\n",
        "        "
      ],
      "execution_count": 4,
      "outputs": [
        {
          "output_type": "stream",
          "text": [
            "4624\n",
            "6084\n",
            "6400\n",
            "8464\n"
          ],
          "name": "stdout"
        }
      ]
    },
    {
      "cell_type": "code",
      "metadata": {
        "colab": {
          "base_uri": "https://localhost:8080/"
        },
        "id": "ETLYWlJ7IG79",
        "outputId": "b2f9c53f-a742-43b4-f85b-c3502bae57fd"
      },
      "source": [
        " def py(n):\n",
        "  x=1\n",
        "  for i in range(1, n+1):\n",
        "    for j in range(1, i+1):\n",
        "      print(x, end=\" \")\n",
        "      x=x+i\n",
        "    x=i+1\n",
        "    print(\"\\r\")\n",
        " \n",
        "n=int(input(\"enter the limit : \"))\n",
        "py(n)"
      ],
      "execution_count": 5,
      "outputs": [
        {
          "output_type": "stream",
          "text": [
            "enter the limit : 4\n",
            "1 \n",
            "2 4 \n",
            "3 6 9 \n",
            "4 8 12 16 \n"
          ],
          "name": "stdout"
        }
      ]
    },
    {
      "cell_type": "code",
      "metadata": {
        "colab": {
          "base_uri": "https://localhost:8080/"
        },
        "id": "X_Vr1wVQIPpV",
        "outputId": "cd0da6b4-43d6-4772-cc27-c00ae4e89099"
      },
      "source": [
        "def char_frequency(str1):\n",
        "    dict = {}\n",
        "    for n in str1:\n",
        "        keys = dict.keys()\n",
        "        if n in keys:\n",
        "            dict[n] += 1\n",
        "        else:\n",
        "            dict[n] = 1\n",
        "    return dict\n",
        "print(char_frequency('google.com'))"
      ],
      "execution_count": 6,
      "outputs": [
        {
          "output_type": "stream",
          "text": [
            "{'g': 2, 'o': 3, 'l': 1, 'e': 1, '.': 1, 'c': 1, 'm': 1}\n"
          ],
          "name": "stdout"
        }
      ]
    },
    {
      "cell_type": "code",
      "metadata": {
        "colab": {
          "base_uri": "https://localhost:8080/"
        },
        "id": "Y1QQAf1zIX2F",
        "outputId": "08852206-9ae9-4654-fbb1-3eb31c43f6d1"
      },
      "source": [
        "def add_string(str1):  \n",
        "  length = len(str1)  \n",
        "  \n",
        "  if length > 2:  \n",
        "    if str1[-3:] == 'ing':  \n",
        "      str1 += 'ly'  \n",
        "    else:  \n",
        "      str1 += 'ing'  \n",
        "  \n",
        "  return str1  \n",
        "print(add_string('ab'))  \n",
        "print(add_string('abc'))  \n",
        "print(add_string('string'))"
      ],
      "execution_count": 7,
      "outputs": [
        {
          "output_type": "stream",
          "text": [
            "ab\n",
            "abcing\n",
            "stringly\n"
          ],
          "name": "stdout"
        }
      ]
    },
    {
      "cell_type": "code",
      "metadata": {
        "colab": {
          "base_uri": "https://localhost:8080/"
        },
        "id": "0l41zoeMIhx9",
        "outputId": "2acdbf66-0454-4146-b5e2-5b1985b2f35d"
      },
      "source": [
        "l=[]\n",
        "n= int(input(\"enter the number of elements in list : \"))\n",
        "for i in range(1,n+1):\n",
        "    x=input()\n",
        "    l.append(x)\n",
        "max=len(l[0])\n",
        "temp=l[0]\n",
        "for j in l:\n",
        "    if(len(j)>max):\n",
        "       max=len(j)\n",
        "       temp=j\n",
        "print(\"the word with the longest length is :\",temp)"
      ],
      "execution_count": 8,
      "outputs": [
        {
          "output_type": "stream",
          "text": [
            "enter the number of elements in list : 3\n",
            "dona\n",
            "bhavana\n",
            "athira\n",
            "the word with the longest length is : bhavana\n"
          ],
          "name": "stdout"
        }
      ]
    },
    {
      "cell_type": "code",
      "metadata": {
        "colab": {
          "base_uri": "https://localhost:8080/"
        },
        "id": "RrcXSMIpIp4m",
        "outputId": "7317b9b8-afc3-4720-b40e-4dc16d9b83c3"
      },
      "source": [
        "n=5;\n",
        "for i in range(n):\n",
        "    for j in range(i):\n",
        "        print ('* ', end=\"\")\n",
        "    print('')\n",
        "\n",
        "for i in range(n,0,-1):\n",
        "    for j in range(i):\n",
        "        print('* ', end=\"\")\n",
        "    print('')"
      ],
      "execution_count": 13,
      "outputs": [
        {
          "output_type": "stream",
          "text": [
            "\n",
            "* \n",
            "* * \n",
            "* * * \n",
            "* * * * \n",
            "* * * * * \n",
            "* * * * \n",
            "* * * \n",
            "* * \n",
            "* \n"
          ],
          "name": "stdout"
        }
      ]
    },
    {
      "cell_type": "code",
      "metadata": {
        "colab": {
          "base_uri": "https://localhost:8080/"
        },
        "id": "91HCMd9MIvXW",
        "outputId": "7be822a9-9df9-4397-cab6-529ab6deb238"
      },
      "source": [
        "n=int(input(\"enter any number : \"))\n",
        "i=1\n",
        "print(\"all factors of\",n,\"are :\")\n",
        "while i<=n:\n",
        "  if n%i==0:\n",
        "    print(i)\n",
        "  i=i+1"
      ],
      "execution_count": 12,
      "outputs": [
        {
          "output_type": "stream",
          "text": [
            "enter any number : 12\n",
            "all factors of 12 are :\n",
            "1\n",
            "2\n",
            "3\n",
            "4\n",
            "6\n",
            "12\n"
          ],
          "name": "stdout"
        }
      ]
    },
    {
      "cell_type": "code",
      "metadata": {
        "colab": {
          "base_uri": "https://localhost:8080/"
        },
        "id": "Ke1u-r99I2Ut",
        "outputId": "7152ec19-e3ea-41a6-f823-b1d7289b4169"
      },
      "source": [
        "s_area = lambda a:a*a  \n",
        "r_area = lambda l,w : l*w\n",
        "t_area = lambda s,a,b,c: (s*(s-a)*(s-b)*(s-c)) ** 0.5\n",
        "print(\"Area of square (3) is:\", s_area(3))\n",
        "print(\"Area of Rectangle (30,20) is:\", r_area(30,20))\n",
        "print(\"Area of Triangle(25,10,20,20) is:\", t_area(25,10,20,20))"
      ],
      "execution_count": 9,
      "outputs": [
        {
          "output_type": "stream",
          "text": [
            "Area of square (3) is: 9\n",
            "Area of Rectangle (30,20) is: 600\n",
            "Area of Triangle(25,10,20,20) is: 96.82458365518542\n"
          ],
          "name": "stdout"
        }
      ]
    }
  ]
}